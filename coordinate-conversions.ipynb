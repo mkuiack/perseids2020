{
 "cells": [
  {
   "cell_type": "code",
   "execution_count": 17,
   "metadata": {},
   "outputs": [],
   "source": [
    "# Question I'm trying to answer: does the 02:22:55 UT AARTFAAC observation at apparent Ra:257 Dec:+48 match\n",
    "#                                the Burlage observation at 02:22:55 at apparent Ra:325, Dec:+49"
   ]
  },
  {
   "cell_type": "code",
   "execution_count": 2,
   "metadata": {},
   "outputs": [],
   "source": [
    "import numpy as np\n",
    "import matplotlib.pyplot as plt\n",
    "import matplotlib as mpl\n",
    "\n",
    "from astropy.units import Quantity\n",
    "\n",
    "import astropy.units as u\n",
    "from astropy.time import Time\n",
    "from astropy.coordinates import EarthLocation, AltAz, GCRS, ITRS, Angle, SkyCoord, FK5"
   ]
  },
  {
   "cell_type": "code",
   "execution_count": 3,
   "metadata": {},
   "outputs": [],
   "source": [
    "def radec_to_radec(radec1: SkyCoord, obs1: EarthLocation, obs2: EarthLocation, time: Time, height: Quantity = 100*u.km):\n",
    "    \"\"\"Convert apparent Ra/Dec from one site to apparent Ra/Dec from another site\"\"\"\n",
    "    aa1_far = radec1.transform_to(AltAz(location=obs1, obstime=time))\n",
    "    aa1_near = AltAz(location=obs1, obstime=time, alt=aa1_far.alt, az=aa1_far.az, distance=height/np.sin(aa1_far.alt))\n",
    "    aa2_near = aa1_near.transform_to(AltAz(location=obs2, obstime=time))\n",
    "    aa2_far = AltAz(location=obs2, obstime=time, alt=aa2_near.alt, az=aa2_near.az)\n",
    "    return aa2_far.transform_to(FK5)"
   ]
  },
  {
   "cell_type": "code",
   "execution_count": 4,
   "metadata": {},
   "outputs": [],
   "source": [
    "t = Time(\"2020-08-13T02:22:55\", format=\"isot\", scale=\"utc\")"
   ]
  },
  {
   "cell_type": "code",
   "execution_count": 5,
   "metadata": {},
   "outputs": [],
   "source": [
    "height = 100 * u.km"
   ]
  },
  {
   "cell_type": "code",
   "execution_count": 6,
   "metadata": {},
   "outputs": [],
   "source": [
    "loc_lofar = EarthLocation(lat = 52.9153 * u.deg,\n",
    "                          lon = 6.8698 * u.deg,\n",
    "                          height = 20 * u.m)\n",
    "\n",
    "loc_dwingeloo = EarthLocation(lat = 52.8344 * u.deg,\n",
    "                              lon = 6.3785 * u.deg,\n",
    "                              height = 10 * u.m)\n",
    "\n",
    "loc_burlage = EarthLocation(lat = 53.047010 * u.deg,\n",
    "                            lon = 7.552926 * u.deg,\n",
    "                            height = 10 * u.m)"
   ]
  },
  {
   "cell_type": "code",
   "execution_count": 7,
   "metadata": {},
   "outputs": [
    {
     "data": {
      "text/plain": [
       "<FK5 Coordinate (equinox=J2000.000): (ra, dec) in deg\n",
       "    (264.8387406, 38.98317898)>"
      ]
     },
     "execution_count": 7,
     "metadata": {},
     "output_type": "execute_result"
    }
   ],
   "source": [
    "radec_to_radec(FK5(ra=257*u.deg, dec=48*u.deg), loc_lofar, loc_burlage, t)"
   ]
  },
  {
   "cell_type": "code",
   "execution_count": null,
   "metadata": {},
   "outputs": [],
   "source": [
    "# Conclusion: the AARTFAAC detection is not the same as the one in Burlage"
   ]
  },
  {
   "cell_type": "code",
   "execution_count": 9,
   "metadata": {},
   "outputs": [
    {
     "data": {
      "text/plain": [
       "<FK5 Coordinate (equinox=J2000.000): (ra, dec) in deg\n",
       "    (257.08523051, 47.91843682)>"
      ]
     },
     "execution_count": 9,
     "metadata": {},
     "output_type": "execute_result"
    }
   ],
   "source": [
    "# Check: does radec_to_radec transform back to the input (errors due to flat earth assumption)\n",
    "radec_to_radec(radec_to_radec(FK5(ra=257*u.deg, dec=48*u.deg), loc_lofar, loc_burlage, t), loc_burlage, loc_lofar, t)"
   ]
  },
  {
   "cell_type": "code",
   "execution_count": 10,
   "metadata": {},
   "outputs": [
    {
     "data": {
      "text/plain": [
       "<FK5 Coordinate (equinox=J2000.000): (ra, dec) in deg\n",
       "    (44.05214719, 62.68988115)>"
      ]
     },
     "execution_count": 10,
     "metadata": {},
     "output_type": "execute_result"
    }
   ],
   "source": [
    "radec_to_radec(FK5(ra=325*u.deg, dec=48*u.deg), loc_burlage, loc_dwingeloo, t)"
   ]
  },
  {
   "cell_type": "code",
   "execution_count": 16,
   "metadata": {},
   "outputs": [
    {
     "data": {
      "text/plain": [
       "<FK5 Coordinate (equinox=J2000.000): (ra, dec) in deg\n",
       "    [(52.58875209, 60.98414671), (49.71224829, 61.64023942),\n",
       "     (46.86222056, 62.20671475), (44.05214719, 62.68988115),\n",
       "     (41.29436953, 63.09617628), (38.59981307, 63.43204611),\n",
       "     (35.97779824, 63.70383789), (33.43594345, 63.91770927),\n",
       "     (30.98015377, 64.07955473), (28.61468246, 64.19494954)]>"
      ]
     },
     "execution_count": 16,
     "metadata": {},
     "output_type": "execute_result"
    }
   ],
   "source": [
    "radec_to_radec(FK5(ra=325*u.deg, dec=48*u.deg), loc_burlage, loc_dwingeloo, t, height=np.linspace(90, 120, 10) * u.km)"
   ]
  }
 ],
 "metadata": {
  "kernelspec": {
   "display_name": "Python 3",
   "language": "python",
   "name": "python3"
  },
  "language_info": {
   "codemirror_mode": {
    "name": "ipython",
    "version": 3
   },
   "file_extension": ".py",
   "mimetype": "text/x-python",
   "name": "python",
   "nbconvert_exporter": "python",
   "pygments_lexer": "ipython3",
   "version": "3.8.5"
  }
 },
 "nbformat": 4,
 "nbformat_minor": 4
}
